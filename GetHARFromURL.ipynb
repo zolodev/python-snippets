{
  "nbformat": 4,
  "nbformat_minor": 0,
  "metadata": {
    "colab": {
      "provenance": []
    },
    "kernelspec": {
      "name": "python3",
      "display_name": "Python 3"
    },
    "language_info": {
      "name": "python"
    }
  },
  "cells": [
    {
      "cell_type": "markdown",
      "source": [
        "# Get HAR Data using Selenium-wire without any proxy\n",
        "A common problem is to crawl a web page, to get the HAR data. But many suggestions points to using a Proxy.\n",
        "\n",
        "However, with Selenium-wire this is not needed."
      ],
      "metadata": {
        "id": "u4qNI5Ifldu4"
      }
    },
    {
      "cell_type": "markdown",
      "source": [
        "## Prerequsite\n",
        "We need to install the `selenium-wire` package."
      ],
      "metadata": {
        "id": "DIaWVaD1l19g"
      }
    },
    {
      "cell_type": "code",
      "source": [
        "# Install the selenium-wire package\n",
        "%pip install -q selenium-wire"
      ],
      "metadata": {
        "colab": {
          "base_uri": "https://localhost:8080/"
        },
        "id": "pIdCjbOelcxT",
        "outputId": "ccc2711d-fe0c-4a78-dbfd-c2eb96fa7cb1"
      },
      "execution_count": 1,
      "outputs": [
        {
          "output_type": "stream",
          "name": "stdout",
          "text": [
            "\u001b[2K     \u001b[90m━━━━━━━━━━━━━━━━━━━━━━━━━━━━━━━━━━━━━━━━\u001b[0m \u001b[32m239.6/239.6 kB\u001b[0m \u001b[31m2.0 MB/s\u001b[0m eta \u001b[36m0:00:00\u001b[0m\n",
            "\u001b[2K     \u001b[90m━━━━━━━━━━━━━━━━━━━━━━━━━━━━━━━━━━━━━━━━\u001b[0m \u001b[32m3.0/3.0 MB\u001b[0m \u001b[31m21.7 MB/s\u001b[0m eta \u001b[36m0:00:00\u001b[0m\n",
            "\u001b[2K     \u001b[90m━━━━━━━━━━━━━━━━━━━━━━━━━━━━━━━━━━━━━━━━\u001b[0m \u001b[32m10.0/10.0 MB\u001b[0m \u001b[31m30.1 MB/s\u001b[0m eta \u001b[36m0:00:00\u001b[0m\n",
            "\u001b[2K     \u001b[90m━━━━━━━━━━━━━━━━━━━━━━━━━━━━━━━━━━━━━━━━\u001b[0m \u001b[32m5.4/5.4 MB\u001b[0m \u001b[31m30.6 MB/s\u001b[0m eta \u001b[36m0:00:00\u001b[0m\n",
            "\u001b[2K     \u001b[90m━━━━━━━━━━━━━━━━━━━━━━━━━━━━━━━━━━━━━━━━\u001b[0m \u001b[32m57.5/57.5 kB\u001b[0m \u001b[31m2.1 MB/s\u001b[0m eta \u001b[36m0:00:00\u001b[0m\n",
            "\u001b[2K     \u001b[90m━━━━━━━━━━━━━━━━━━━━━━━━━━━━━━━━━━━━━━━━\u001b[0m \u001b[32m460.2/460.2 kB\u001b[0m \u001b[31m7.4 MB/s\u001b[0m eta \u001b[36m0:00:00\u001b[0m\n",
            "\u001b[2K     \u001b[90m━━━━━━━━━━━━━━━━━━━━━━━━━━━━━━━━━━━━━━━━\u001b[0m \u001b[32m58.3/58.3 kB\u001b[0m \u001b[31m4.0 MB/s\u001b[0m eta \u001b[36m0:00:00\u001b[0m\n",
            "\u001b[?25h"
          ]
        }
      ]
    },
    {
      "cell_type": "markdown",
      "source": [
        "## Set the parameters\n"
      ],
      "metadata": {
        "id": "QIQq8Kvyl-cI"
      }
    },
    {
      "cell_type": "code",
      "source": [
        "# Set the Title of the filename\n",
        "TITLE = None # \"Google\"\n",
        "\n",
        "# Set the URL that you want to \"fetch\"\n",
        "THE_URL = None # \"https://www.google.com\"\n"
      ],
      "metadata": {
        "id": "LvkFuqGpmF4h"
      },
      "execution_count": 2,
      "outputs": []
    },
    {
      "cell_type": "code",
      "execution_count": 3,
      "metadata": {
        "colab": {
          "base_uri": "https://localhost:8080/"
        },
        "id": "EI1ni3xikeTL",
        "outputId": "cc0c7cd4-3b00-4f40-c9ce-a6a46d274485"
      },
      "outputs": [
        {
          "output_type": "stream",
          "name": "stderr",
          "text": [
            "IOPub data rate exceeded.\n",
            "The notebook server will temporarily stop sending output\n",
            "to the client in order to avoid crashing it.\n",
            "To change this limit, set the config variable\n",
            "`--NotebookApp.iopub_data_rate_limit`.\n",
            "\n",
            "Current values:\n",
            "NotebookApp.iopub_data_rate_limit=1000000.0 (bytes/sec)\n",
            "NotebookApp.rate_limit_window=3.0 (secs)\n",
            "\n"
          ]
        }
      ],
      "source": [
        "import json\n",
        "from seleniumwire import webdriver\n",
        "\n",
        "if TITLE is None:\n",
        "  TITLE = \"Google\"\n",
        "if THE_URL is None:\n",
        "  THE_URL = \"https://www.google.com\"\n",
        "\n",
        "# Chrome options configurations\n",
        "chrome_options = webdriver.ChromeOptions()\n",
        "chrome_options.add_argument('--no-sandbox')\n",
        "chrome_options.add_argument('--disable-extensions')\n",
        "chrome_options.add_argument(\"--headless=new\")\n",
        "chrome_options.add_argument('--ignore-certificate-errors-spki-list')\n",
        "chrome_options.add_argument(\"--ignore-certificate-errors\")\n",
        "chrome_options.add_argument('--ignore-ssl-errors')\n",
        "\n",
        "# Selenium-Wire configuration\n",
        "sw_options = {\n",
        "    'enable_har': True,\n",
        "    'verify_ssl': False\n",
        "}\n",
        "\n",
        "# Prepare the driver\n",
        "driver = webdriver.Chrome(\n",
        "    options=chrome_options,\n",
        "    seleniumwire_options=sw_options\n",
        ")\n",
        "\n",
        "# Get the URL contents\n",
        "driver.get(THE_URL)\n",
        "\n",
        "# Store the HAR data in a new variable\n",
        "sel_har = json.loads(driver.har)\n",
        "\n",
        "# Close and Quit the driver\n",
        "driver.close()\n",
        "driver.quit()\n",
        "\n",
        "\n",
        "# Print the HAR Data\n",
        "print(json.dumps(sel_har, indent=4, sort_keys=True))\n",
        "\n",
        "# Write the information to a new JSON file\n",
        "with open('/content/HAR_'+TITLE+'.json', 'w') as f:\n",
        "  f.write(json.dumps(sel_har, indent=4, sort_keys=True))"
      ]
    }
  ]
}
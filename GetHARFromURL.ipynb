{
  "nbformat": 4,
  "nbformat_minor": 0,
  "metadata": {
    "colab": {
      "provenance": []
    },
    "kernelspec": {
      "name": "python3",
      "display_name": "Python 3"
    },
    "language_info": {
      "name": "python"
    }
  },
  "cells": [
    {
      "cell_type": "markdown",
      "source": [
        "# Get HAR Data using Selenium-wire without any proxy\n",
        "A common problem is to crawl a web page, to get the HAR data. But many suggestions points to using a Proxy.\n",
        "\n",
        "However, with Selenium-wire this is not needed."
      ],
      "metadata": {
        "id": "u4qNI5Ifldu4"
      }
    },
    {
      "cell_type": "markdown",
      "source": [
        "## Prerequsite\n",
        "We need to install the `selenium-wire` package."
      ],
      "metadata": {
        "id": "DIaWVaD1l19g"
      }
    },
    {
      "cell_type": "code",
      "source": [
        "# Install the selenium-wire package\n",
        "!pip install -q selenium-wire"
      ],
      "metadata": {
        "colab": {
          "base_uri": "https://localhost:8080/"
        },
        "id": "pIdCjbOelcxT",
        "outputId": "0e80a451-9a2b-4281-e211-ee19d9ecc4d9"
      },
      "execution_count": 1,
      "outputs": [
        {
          "output_type": "stream",
          "name": "stdout",
          "text": [
            "\u001b[2K     \u001b[90m━━━━━━━━━━━━━━━━━━━━━━━━━━━━━━━━━━━━━━━━\u001b[0m \u001b[32m239.6/239.6 kB\u001b[0m \u001b[31m2.8 MB/s\u001b[0m eta \u001b[36m0:00:00\u001b[0m\n",
            "\u001b[2K     \u001b[90m━━━━━━━━━━━━━━━━━━━━━━━━━━━━━━━━━━━━━━━━\u001b[0m \u001b[32m3.0/3.0 MB\u001b[0m \u001b[31m12.3 MB/s\u001b[0m eta \u001b[36m0:00:00\u001b[0m\n",
            "\u001b[2K     \u001b[90m━━━━━━━━━━━━━━━━━━━━━━━━━━━━━━━━━━━━━━━━\u001b[0m \u001b[32m10.0/10.0 MB\u001b[0m \u001b[31m36.2 MB/s\u001b[0m eta \u001b[36m0:00:00\u001b[0m\n",
            "\u001b[2K     \u001b[90m━━━━━━━━━━━━━━━━━━━━━━━━━━━━━━━━━━━━━━━━\u001b[0m \u001b[32m5.4/5.4 MB\u001b[0m \u001b[31m33.6 MB/s\u001b[0m eta \u001b[36m0:00:00\u001b[0m\n",
            "\u001b[2K     \u001b[90m━━━━━━━━━━━━━━━━━━━━━━━━━━━━━━━━━━━━━━━━\u001b[0m \u001b[32m57.5/57.5 kB\u001b[0m \u001b[31m3.9 MB/s\u001b[0m eta \u001b[36m0:00:00\u001b[0m\n",
            "\u001b[2K     \u001b[90m━━━━━━━━━━━━━━━━━━━━━━━━━━━━━━━━━━━━━━━━\u001b[0m \u001b[32m460.2/460.2 kB\u001b[0m \u001b[31m17.5 MB/s\u001b[0m eta \u001b[36m0:00:00\u001b[0m\n",
            "\u001b[2K     \u001b[90m━━━━━━━━━━━━━━━━━━━━━━━━━━━━━━━━━━━━━━━━\u001b[0m \u001b[32m58.3/58.3 kB\u001b[0m \u001b[31m989.0 kB/s\u001b[0m eta \u001b[36m0:00:00\u001b[0m\n",
            "\u001b[?25h"
          ]
        }
      ]
    },
    {
      "cell_type": "markdown",
      "source": [
        "## Set the parameters\n"
      ],
      "metadata": {
        "id": "QIQq8Kvyl-cI"
      }
    },
    {
      "cell_type": "code",
      "source": [
        "# Set the URL that you want to \"fetch\"\n",
        "THE_URL = \"https://www.google.com\""
      ],
      "metadata": {
        "id": "LvkFuqGpmF4h"
      },
      "execution_count": 2,
      "outputs": []
    },
    {
      "cell_type": "code",
      "execution_count": 3,
      "metadata": {
        "id": "EI1ni3xikeTL"
      },
      "outputs": [],
      "source": [
        "import json\n",
        "from seleniumwire import webdriver\n",
        "\n",
        "# Chrome options configurations\n",
        "chrome_options = webdriver.ChromeOptions()\n",
        "chrome_options.add_argument(\"--headless=new\")\n",
        "chrome_options.add_argument('--no-sandbox')\n",
        "\n",
        "# Selenium-Wire configuration\n",
        "sw_options = {\n",
        "    'enable_har': True,\n",
        "    'verify_ssl': False\n",
        "}\n",
        "\n",
        "# Prepare the driver\n",
        "driver = webdriver.Chrome(\n",
        "    options=chrome_options,\n",
        "    seleniumwire_options=sw_options\n",
        ")\n",
        "\n",
        "# Get the URL contents\n",
        "driver.get(THE_URL)\n",
        "\n",
        "# In case of large page loads, wait X seconds\n",
        "driver.implicitly_wait(15)\n",
        "\n",
        "# Store the HAR data in a new variable\n",
        "sel_har = json.loads(driver.har)\n",
        "\n",
        "# Close and Quit the driver\n",
        "driver.close()\n",
        "driver.quit()\n",
        "\n",
        "\n",
        "# Write the information to a new JSON file\n",
        "with open('/content/HAR_data.json', 'w') as f:\n",
        "  f.write(json.dumps(sel_har, indent=4, sort_keys=True))"
      ]
    }
  ]
}
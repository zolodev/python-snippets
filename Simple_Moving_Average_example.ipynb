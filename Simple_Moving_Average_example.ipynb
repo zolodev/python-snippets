{
  "cells": [
    {
      "cell_type": "markdown",
      "metadata": {
        "id": "XlEqgYGfh7OE"
      },
      "source": [
        "# Simple moving average example"
      ]
    },
    {
      "cell_type": "code",
      "execution_count": 3,
      "metadata": {
        "colab": {
          "base_uri": "https://localhost:8080/"
        },
        "id": "FCDmDvdAhxFx",
        "outputId": "be8b9543-b32e-40cc-fa68-b8305833461e"
      },
      "outputs": [
        {
          "name": "stdout",
          "output_type": "stream",
          "text": [
            "Requirement already satisfied: pandas in /usr/local/lib/python3.10/dist-packages (1.5.3)\n",
            "Requirement already satisfied: python-dateutil>=2.8.1 in /usr/local/lib/python3.10/dist-packages (from pandas) (2.8.2)\n",
            "Requirement already satisfied: pytz>=2020.1 in /usr/local/lib/python3.10/dist-packages (from pandas) (2023.4)\n",
            "Requirement already satisfied: numpy>=1.21.0 in /usr/local/lib/python3.10/dist-packages (from pandas) (1.23.5)\n",
            "Requirement already satisfied: six>=1.5 in /usr/local/lib/python3.10/dist-packages (from python-dateutil>=2.8.1->pandas) (1.16.0)\n"
          ]
        }
      ],
      "source": [
        "%pip install pandas"
      ]
    },
    {
      "cell_type": "code",
      "execution_count": 5,
      "metadata": {
        "colab": {
          "base_uri": "https://localhost:8080/"
        },
        "id": "eA1NW9ech06t",
        "outputId": "31c38099-ffb5-4042-b87e-de82efd34c55"
      },
      "outputs": [
        {
          "name": "stdout",
          "output_type": "stream",
          "text": [
            "            price    SMA\n",
            "date                    \n",
            "2024-01-01    100    NaN\n",
            "2024-01-02    110    NaN\n",
            "2024-01-03    120  110.0\n",
            "2024-01-04    130  120.0\n",
            "2024-01-05    140  130.0\n"
          ]
        }
      ],
      "source": [
        "import pandas as pd\n",
        "from datetime import datetime\n",
        "\n",
        "# Static example data\n",
        "data = [\n",
        "    {\"date\": \"2024-01-01\", \"price\": 100},\n",
        "    {\"date\": \"2024-01-02\", \"price\": 110},\n",
        "    {\"date\": \"2024-01-03\", \"price\": 120},\n",
        "    {\"date\": \"2024-01-04\", \"price\": 130},\n",
        "    {\"date\": \"2024-01-05\", \"price\": 140},\n",
        "]\n",
        "\n",
        "# Convert to DataFrame\n",
        "df = pd.DataFrame(data)\n",
        "\n",
        "# Convert 'date' column to datetime\n",
        "df['date'] = pd.to_datetime(df['date'])\n",
        "\n",
        "# day_idx\n",
        "df.set_index('date', inplace=True)\n",
        "\n",
        "# Calculate the simple moving average\n",
        "window_size = 3  # Change this to the desired window, AKA K\n",
        "df['SMA'] = df['price'].rolling(window=window_size).mean()\n",
        "\n",
        "# The first two will print NaN in SMA due to the window of 3\n",
        "# and there is not enough data points to calculate the average at that point.\n",
        "print(df)\n"
      ]
    }
  ],
  "metadata": {
    "colab": {
      "provenance": []
    },
    "kernelspec": {
      "display_name": "Python 3",
      "name": "python3"
    },
    "language_info": {
      "name": "python"
    }
  },
  "nbformat": 4,
  "nbformat_minor": 0
}

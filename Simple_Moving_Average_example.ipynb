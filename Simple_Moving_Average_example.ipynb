{
  "cells": [
    {
      "cell_type": "markdown",
      "metadata": {
        "id": "XlEqgYGfh7OE"
      },
      "source": [
        "# Simple moving average example\n",
        "This is a simple example from the wiki page regarding simple moving average.\n",
        "More about SMA can be found here:\n",
        "https://en.wikipedia.org/wiki/Moving_average\n",
        "\n",
        "If you have difficulty to read this, try read it using online nbviewer:\n",
        "https://nbviewer.org/\n",
        "\n",
        "To this book you can visit:\n",
        "https://nbviewer.org/github/zolodev/python-snippets/blob/main/Simple_Moving_Average_example.ipynb"
      ]
    },
    {
      "cell_type": "code",
      "execution_count": 10,
      "metadata": {
        "colab": {
          "base_uri": "https://localhost:8080/"
        },
        "id": "FCDmDvdAhxFx",
        "outputId": "131d3856-7421-4ca8-936d-c8724638dee8"
      },
      "outputs": [
        {
          "name": "stdout",
          "output_type": "stream",
          "text": [
            "Requirement already satisfied: pandas in /usr/local/lib/python3.10/dist-packages (1.5.3)\n",
            "Requirement already satisfied: python-dateutil>=2.8.1 in /usr/local/lib/python3.10/dist-packages (from pandas) (2.8.2)\n",
            "Requirement already satisfied: pytz>=2020.1 in /usr/local/lib/python3.10/dist-packages (from pandas) (2023.4)\n",
            "Requirement already satisfied: numpy>=1.21.0 in /usr/local/lib/python3.10/dist-packages (from pandas) (1.23.5)\n",
            "Requirement already satisfied: six>=1.5 in /usr/local/lib/python3.10/dist-packages (from python-dateutil>=2.8.1->pandas) (1.16.0)\n"
          ]
        }
      ],
      "source": [
        "%pip install pandas"
      ]
    },
    {
      "cell_type": "markdown",
      "metadata": {
        "id": "N9meQ8twsZWB"
      },
      "source": [
        "## Optional and good practices\n",
        "In the example below I convert the 'date' to datetime format.\n",
        "However it is not necessary but considered good practices.\n",
        "\n",
        "I also converts the 'date' to be the \"index\" (idx) to simplify the output.\n",
        "This is not necessary but makes it easier to understand the output."
      ]
    },
    {
      "cell_type": "code",
      "execution_count": 11,
      "metadata": {
        "colab": {
          "base_uri": "https://localhost:8080/"
        },
        "id": "eA1NW9ech06t",
        "outputId": "1f0efb79-abbe-4c60-eb8b-48a2d0f7ab46"
      },
      "outputs": [
        {
          "name": "stdout",
          "output_type": "stream",
          "text": [
            "            price    SMA\n",
            "date                    \n",
            "2024-01-01    100    NaN\n",
            "2024-01-02    110    NaN\n",
            "2024-01-03    120  110.0\n",
            "2024-01-04    130  120.0\n",
            "2024-01-05    140  130.0\n"
          ]
        }
      ],
      "source": [
        "import pandas as pd\n",
        "from datetime import datetime\n",
        "\n",
        "# Static example data\n",
        "data = [\n",
        "    {\"date\": \"2024-01-01\", \"price\": 100},\n",
        "    {\"date\": \"2024-01-02\", \"price\": 110},\n",
        "    {\"date\": \"2024-01-03\", \"price\": 120},\n",
        "    {\"date\": \"2024-01-04\", \"price\": 130},\n",
        "    {\"date\": \"2024-01-05\", \"price\": 140},\n",
        "]\n",
        "\n",
        "# Convert to DataFrame\n",
        "df = pd.DataFrame(data)\n",
        "\n",
        "# [optional] Convert 'date' column to datetime\n",
        "df['date'] = pd.to_datetime(df['date'])\n",
        "\n",
        "# [optional] Converts 'date' to day_idx\n",
        "df.set_index('date', inplace=True)\n",
        "\n",
        "# Calculate the simple moving average\n",
        "window_size = 3  # Change this to the desired window, AKA K\n",
        "df['SMA'] = df['price'].rolling(window=window_size).mean()\n",
        "\n",
        "# The first two will print NaN in SMA due to the window of 3\n",
        "# and there is not enough data points to calculate the average at that point.\n",
        "# This example will show a trend going upwards.\n",
        "print(df)\n"
      ]
    },
    {
      "cell_type": "markdown",
      "metadata": {
        "id": "OYi0ItFlsSrd"
      },
      "source": [
        "## Minimal SMA example"
      ]
    },
    {
      "cell_type": "code",
      "execution_count": 12,
      "metadata": {
        "colab": {
          "base_uri": "https://localhost:8080/"
        },
        "id": "IcLeNwYNsOn3",
        "outputId": "7e16f0be-2a0d-4914-eb6e-9f97c7c808c7"
      },
      "outputs": [
        {
          "name": "stdout",
          "output_type": "stream",
          "text": [
            "         date  price    SMA\n",
            "0  2024-01-01    100    NaN\n",
            "1  2024-01-02    110    NaN\n",
            "2  2024-01-03    120  110.0\n",
            "3  2024-01-04    130  120.0\n",
            "4  2024-01-05    140  130.0\n"
          ]
        }
      ],
      "source": [
        "import pandas as pd\n",
        "\n",
        "# Static example data\n",
        "data = [\n",
        "    {\"date\": \"2024-01-01\", \"price\": 100},\n",
        "    {\"date\": \"2024-01-02\", \"price\": 110},\n",
        "    {\"date\": \"2024-01-03\", \"price\": 120},\n",
        "    {\"date\": \"2024-01-04\", \"price\": 130},\n",
        "    {\"date\": \"2024-01-05\", \"price\": 140},\n",
        "]\n",
        "\n",
        "# Convert to DataFrame\n",
        "df = pd.DataFrame(data)\n",
        "\n",
        "# Calculate the simple moving average\n",
        "window_size = 3  # Change this to the desired window, AKA K\n",
        "df['SMA'] = df['price'].rolling(window=window_size).mean()\n",
        "\n",
        "# The first two will print NaN in SMA due to the window of 3\n",
        "# and there is not enough data points to calculate the average at that point.\n",
        "# This example will show a trend going upwards.\n",
        "print(df)"
      ]
    }
  ],
  "metadata": {
    "colab": {
      "provenance": []
    },
    "kernelspec": {
      "display_name": "Python 3",
      "name": "python3"
    },
    "language_info": {
      "name": "python"
    }
  },
  "nbformat": 4,
  "nbformat_minor": 0
}
